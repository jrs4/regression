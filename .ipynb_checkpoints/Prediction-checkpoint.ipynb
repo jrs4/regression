{
 "cells": [
  {
   "cell_type": "markdown",
   "metadata": {},
   "source": [
    "# Prediction - Wheat Calibration\n",
    "\n",
    "Artificial Neural Network based on a TensorFlow / Keras model\n",
    "\n",
    "Reads Protein.h5 and Moisture.h5 models for prediction purposes"
   ]
  },
  {
   "cell_type": "markdown",
   "metadata": {},
   "source": [
    "### Import Libraries\n",
    "`tensorflow`, `numpy`, `pandas`, `matplotlib`, `sklearn`"
   ]
  },
  {
   "cell_type": "code",
   "execution_count": 1,
   "metadata": {},
   "outputs": [
    {
     "name": "stderr",
     "output_type": "stream",
     "text": [
      "C:\\Users\\t\\Anaconda3\\lib\\site-packages\\h5py\\__init__.py:36: FutureWarning: Conversion of the second argument of issubdtype from `float` to `np.floating` is deprecated. In future, it will be treated as `np.float64 == np.dtype(float).type`.\n",
      "  from ._conv import register_converters as _register_converters\n"
     ]
    }
   ],
   "source": [
    "import tensorflow as tf\n",
    "import numpy as np\n",
    "import pandas as pd\n",
    "import matplotlib.pyplot as plt\n",
    "import glob\n",
    "import os\n",
    "from sklearn.decomposition import PCA\n",
    "from sklearn.linear_model import LinearRegression\n",
    "from sklearn.preprocessing import MinMaxScaler"
   ]
  },
  {
   "cell_type": "markdown",
   "metadata": {},
   "source": [
    "### Import Models"
   ]
  },
  {
   "cell_type": "code",
   "execution_count": null,
   "metadata": {},
   "outputs": [],
   "source": []
  },
  {
   "cell_type": "code",
   "execution_count": 19,
   "metadata": {},
   "outputs": [],
   "source": [
    "#Testing Data\n",
    "path = \"./Data/(3) Testing/\"\n",
    "all_files = glob.glob(os.path.join(path, \"*.csv\")) #make list of paths\n",
    "\n",
    "li = []\n",
    "\n",
    "for filename in all_files:\n",
    "    dfn = pd.read_csv(filename, index_col=None, header=0)\n",
    "    li.append(dfn)\n",
    "\n",
    "df_test = pd.concat(li, axis=0, ignore_index=True, sort=False)\n",
    "\n",
    "#rename \"cal1\" \"cal2\" \"cal3\"\n",
    "df_test = df_test.rename(index=str, columns={\"Cal1\": Cal1Name, \"Cal2\": Cal2Name, \"Cal3\": Cal3Name})\n",
    "df_test = df_test.rename(index=str, columns={\"cal1\": Cal1Name, \"cal2\": Cal2Name, \"cal3\": Cal3Name})\n",
    "\n",
    "#Drop values of spectra if NaN\n",
    "for i in range(9,33):\n",
    "    df_test = df_test.dropna(subset=[\"Sp{}\".format(i)])\n",
    "    \n",
    "#Drop values of protein if NaN\n",
    "df_test = df_test.dropna(subset=[Cal1Name])\n",
    "\n",
    "test_spectra = df_test.loc[:,\"Sp9\":\"Sp33\"].values\n",
    "                         \n",
    "test_values = [1,2,3]\n",
    "if Cal1Name in df_train:\n",
    "    test_values[0] = df_test[Cal1Name].values\n",
    "if Cal2Name in df_train:\n",
    "    test_values[1] = df_test[Cal2Name].values\n",
    "if Cal3Name in df_train:\n",
    "    test_values[2] = df_test[Cal3Name].values\n",
    "\n",
    "test_spectra_pca = pca.transform(test_spectra)\n",
    "\n",
    "test_spectra_pca = scaler.transform(test_spectra_pca)\n",
    "\n",
    "prediction[0] = model1.predict(test_spectra_pca)\n",
    "prediction[1] = model2.predict(test_spectra_pca)"
   ]
  },
  {
   "cell_type": "code",
   "execution_count": 20,
   "metadata": {
    "scrolled": true
   },
   "outputs": [
    {
     "name": "stdout",
     "output_type": "stream",
     "text": [
      "Lab Values Protein = [ 9.2  9.2 10.4 10.4 11.3 11.3 12.2 12.2 12.9 12.9 13.4 13.4 14.3 14.3\n",
      " 15.2 15.2 16.2 16.2]\n",
      "Prediction Protein = [ 9.6  9.7 10.6 10.8 12.  12.2 12.8 12.6 13.9 13.8 13.6 13.5 14.8 14.8\n",
      " 16.2 16.1 16.9 16.8]\n",
      "\n",
      "Lab Values Moisture = [11.  11.   9.6  9.6 10.6 10.6  9.8  9.8  9.8  9.8 11.1 11.1 11.6 11.6\n",
      "  9.9  9.9  9.3  9.3]\n",
      "Prediction Moisture = [11.1 11.1  9.9  9.8 10.5 10.5 10.1 10.   9.8  9.8 11.4 11.4 11.5 11.5\n",
      "  9.9  9.9  9.4  9.5]\n"
     ]
    }
   ],
   "source": [
    "print(\"Lab Values {} = {}\".format(Cal1Name, test_values[0]))\n",
    "print(\"Prediction {} = {}\\n\".format(Cal1Name, np.around(prediction[0].reshape(test_values[0].shape[0]),decimals=1)))\n",
    "print(\"Lab Values {} = {}\".format(Cal2Name, test_values[1]))\n",
    "print(\"Prediction {} = {}\".format(Cal2Name, np.around(prediction[1].reshape(test_values[1].shape[0]),decimals=1)))"
   ]
  },
  {
   "cell_type": "code",
   "execution_count": 21,
   "metadata": {},
   "outputs": [
    {
     "data": {
      "image/png": "[encoded data removed]",
      "text/plain": [
       "<Figure size 864x288 with 2 Axes>"
      ]
     },
     "metadata": {},
     "output_type": "display_data"
    }
   ],
   "source": [
    "plt.subplot(121)\n",
    "plt.scatter(test_values[0], prediction[0])\n",
    "plt.title('Protein Prediction')\n",
    "plt.ylabel('Predicted')\n",
    "plt.xlabel('True')\n",
    "\n",
    "plt.subplot(122)\n",
    "plt.scatter(test_values[1], prediction[1])\n",
    "plt.title('Moisture Prediction')\n",
    "plt.ylabel('Predicted')\n",
    "plt.xlabel('True')\n",
    "plt.show()"
   ]
  },
  {
   "cell_type": "code",
   "execution_count": 25,
   "metadata": {},
   "outputs": [],
   "source": [
    "def PrintResults(Name, constituent):    \n",
    "    print(\"Results for {}\".format(Name))\n",
    "    LR_X = prediction[constituent][:,0].reshape(prediction[constituent][:,0].shape[0],1)\n",
    "    LR_y = test_values[constituent].reshape(test_values[constituent].shape[0],1)\n",
    "    reg = LinearRegression().fit(LR_X, LR_y)\n",
    "    print (\"R2 = \" + str(reg.score(LR_X, LR_y)))\n",
    "\n",
    "    print(\"Slope = \" + str(reg.coef_))\n",
    "    print(\"Bias = \" + str(reg.intercept_))\n",
    "\n",
    "    predictionAdjusted = prediction[constituent][:,0] * reg.coef_ + reg.intercept_\n",
    "    print(\"Lab Values = {}\".format(np.round(test_values[constituent],1)))\n",
    "    print(\"Prediction = {}\".format(np.round(predictionAdjusted[0],1)))\n",
    "\n",
    "    error = (predictionAdjusted - test_values[constituent])\n",
    "    print(\"Error = {}\".format(np.round(error,2)))\n",
    "\n",
    "    sep = error.std()\n",
    "    print(\"Standard Deviation = \" + str(sep))\n",
    "    \n",
    "    plt.plot(error)\n",
    "    plt.title('Prediction Error')\n",
    "    plt.ylabel('Error %')\n",
    "    plt.show()"
   ]
  },
  {
   "cell_type": "code",
   "execution_count": 26,
   "metadata": {},
   "outputs": [
    {
     "name": "stdout",
     "output_type": "stream",
     "text": [
      "Results for Protein\n",
      "R2 = 0.9860015121925553\n",
      "Slope = [[0.9508511]]\n",
      "Bias = [0.07912922]\n",
      "Lab Values = [ 9.2  9.2 10.4 10.4 11.3 11.3 12.2 12.2 12.9 12.9 13.4 13.4 14.3 14.3\n",
      " 15.2 15.2 16.2 16.2]\n",
      "Prediction = [ 9.2  9.3 10.2 10.3 11.5 11.7 12.2 12.1 13.3 13.2 13.  12.9 14.1 14.1\n",
      " 15.5 15.4 16.1 16.1]\n",
      "Error = [[-0.    0.14 -0.23 -0.09  0.18  0.42  0.01 -0.13  0.38  0.3  -0.39 -0.5\n",
      "  -0.17 -0.16  0.31  0.16 -0.08 -0.15]]\n",
      "Standard Deviation = 0.25335570907606386\n"
     ]
    },
    {
     "data": {
      "image/png": "[encoded data removed]",
      "text/plain": [
       "<Figure size 864x288 with 1 Axes>"
      ]
     },
     "metadata": {},
     "output_type": "display_data"
    }
   ],
   "source": [
    "PrintResults(Cal1Name,0)"
   ]
  },
  {
   "cell_type": "code",
   "execution_count": 27,
   "metadata": {},
   "outputs": [
    {
     "name": "stdout",
     "output_type": "stream",
     "text": [
      "Results for Moisture\n",
      "R2 = 0.9666268244489639\n",
      "Slope = [[1.0317028]]\n",
      "Bias = [-0.42461777]\n",
      "Lab Values = [11.  11.   9.6  9.6 10.6 10.6  9.8  9.8  9.8  9.8 11.1 11.1 11.6 11.6\n",
      "  9.9  9.9  9.3  9.3]\n",
      "Prediction = [11.  11.1  9.8  9.7 10.4 10.4  9.9  9.9  9.7  9.7 11.3 11.3 11.4 11.4\n",
      "  9.8  9.8  9.3  9.4]\n",
      "Error = [[ 0.02  0.06  0.21  0.13 -0.16 -0.19  0.15  0.08 -0.12 -0.12  0.2   0.2\n",
      "  -0.18 -0.15 -0.07 -0.08 -0.04  0.06]]\n",
      "Standard Deviation = 0.13697861483003004\n"
     ]
    },
    {
     "data": {
      "image/png": "[encoded data removed]",
      "text/plain": [
       "<Figure size 864x288 with 1 Axes>"
      ]
     },
     "metadata": {},
     "output_type": "display_data"
    }
   ],
   "source": [
    "PrintResults(Cal2Name,1)"
   ]
  },
  {
   "cell_type": "code",
   "execution_count": 35,
   "metadata": {},
   "outputs": [
    {
     "name": "stdout",
     "output_type": "stream",
     "text": [
      "\"{\\\"class_name\\\": \\\"Sequential\\\", \\\"config\\\": [{\\\"class_name\\\": \\\"Dense\\\", \\\"config\\\": {\\\"name\\\": \\\"dense\\\", \\\"trainable\\\": true, \\\"batch_input_shape\\\": [null, 14], \\\"dtype\\\": \\\"float32\\\", \\\"units\\\": 14, \\\"activation\\\": \\\"relu\\\", \\\"use_bias\\\": true, \\\"kernel_initializer\\\": {\\\"class_name\\\": \\\"RandomNormal\\\", \\\"config\\\": {\\\"mean\\\": 0.0, \\\"stddev\\\": 1.0, \\\"seed\\\": null, \\\"dtype\\\": \\\"float32\\\"}}, \\\"bias_initializer\\\": {\\\"class_name\\\": \\\"Zeros\\\", \\\"config\\\": {\\\"dtype\\\": \\\"float32\\\"}}, \\\"kernel_regularizer\\\": null, \\\"bias_regularizer\\\": null, \\\"activity_regularizer\\\": null, \\\"kernel_constraint\\\": null, \\\"bias_constraint\\\": null}}, {\\\"class_name\\\": \\\"Dense\\\", \\\"config\\\": {\\\"name\\\": \\\"dense_1\\\", \\\"trainable\\\": true, \\\"dtype\\\": \\\"float32\\\", \\\"units\\\": 5, \\\"activation\\\": \\\"tanh\\\", \\\"use_bias\\\": true, \\\"kernel_initializer\\\": {\\\"class_name\\\": \\\"RandomNormal\\\", \\\"config\\\": {\\\"mean\\\": 0.0, \\\"stddev\\\": 1.0, \\\"seed\\\": null, \\\"dtype\\\": \\\"float32\\\"}}, \\\"bias_initializer\\\": {\\\"class_name\\\": \\\"Zeros\\\", \\\"config\\\": {\\\"dtype\\\": \\\"float32\\\"}}, \\\"kernel_regularizer\\\": {\\\"class_name\\\": \\\"L1L2\\\", \\\"config\\\": {\\\"l1\\\": 0.0, \\\"l2\\\": 0.0010000000474974513}}, \\\"bias_regularizer\\\": null, \\\"activity_regularizer\\\": null, \\\"kernel_constraint\\\": null, \\\"bias_constraint\\\": null}}, {\\\"class_name\\\": \\\"Dense\\\", \\\"config\\\": {\\\"name\\\": \\\"dense_2\\\", \\\"trainable\\\": true, \\\"dtype\\\": \\\"float32\\\", \\\"units\\\": 1, \\\"activation\\\": \\\"relu\\\", \\\"use_bias\\\": true, \\\"kernel_initializer\\\": {\\\"class_name\\\": \\\"VarianceScaling\\\", \\\"config\\\": {\\\"scale\\\": 1.0, \\\"mode\\\": \\\"fan_avg\\\", \\\"distribution\\\": \\\"uniform\\\", \\\"seed\\\": null, \\\"dtype\\\": \\\"float32\\\"}}, \\\"bias_initializer\\\": {\\\"class_name\\\": \\\"Zeros\\\", \\\"config\\\": {\\\"dtype\\\": \\\"float32\\\"}}, \\\"kernel_regularizer\\\": null, \\\"bias_regularizer\\\": null, \\\"activity_regularizer\\\": null, \\\"kernel_constraint\\\": null, \\\"bias_constraint\\\": null}}], \\\"keras_version\\\": \\\"2.1.6-tf\\\", \\\"backend\\\": \\\"tensorflow\\\"}\"\n"
     ]
    }
   ],
   "source": [
    "import json\n",
    "json_string = model1.to_json()\n",
    "print(json.dumps(json_string, indent=3))"
   ]
  },
  {
   "cell_type": "code",
   "execution_count": 36,
   "metadata": {},
   "outputs": [],
   "source": [
    "model1.save(\"./Model/Protein.h5\")\n",
    "model2.save(\"./Model/Moisture.h5\")"
   ]
  },
  {
   "cell_type": "code",
   "execution_count": null,
   "metadata": {},
   "outputs": [],
   "source": []
  }
 ],
 "metadata": {
  "kernelspec": {
   "display_name": "Python 3",
   "language": "python",
   "name": "python3"
  },
  "language_info": {
   "codemirror_mode": {
    "name": "ipython",
    "version": 3
   },
   "file_extension": ".py",
   "mimetype": "text/x-python",
   "name": "python",
   "nbconvert_exporter": "python",
   "pygments_lexer": "ipython3",
   "version": "3.6.5"
  }
 },
 "nbformat": 4,
 "nbformat_minor": 2
}
